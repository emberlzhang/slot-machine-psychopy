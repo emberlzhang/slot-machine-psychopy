{
 "cells": [
  {
   "cell_type": "markdown",
   "id": "225a19e1",
   "metadata": {},
   "source": [
    "practice_trials.thisRepN\tpractice_trials.thisTrialN\tpractice_trials.thisN\tpractice_trials.thisIndex\tblock.thisRepN\tblock.thisTrialN\tblock.thisN\tblock.thisIndex\tmain_trials.thisRepN\tmain_trials.thisTrialN\tmain_trials.thisN\tmain_trials.thisIndex\ttext_practice_instruction.started\tkey_resp_practice_instruction.started\tkey_resp_practice_instruction.keys\tkey_resp_practice_instruction.rt\ttext.started\tkey_resp.started\tkey_resp.keys\tkey_resp.rt\ttext_practice_reset.started\tkey_resp_practice_reset.started\tkey_resp_practice_reset.keys\tkey_resp_practice_reset.rt\ttext_practice_slots.started\ttext_practice_slots_2.started\tkey_resp_practice_slots.started\tkey_resp_practice_slots.keys\tkey_resp_practice_slots.rt\tpresentationInterval\tpolygon_practice_interval.started\tpolygon_practice_interval.stopped\treward_seq\treward_Img\tCuml_rew\tcurrentTrialReward\ttext_practice_rewards.started\ttext_practice_rewards.stopped\ttext_practice_end.started\tkey_resp_practice_end.started\tkey_resp_practice_end.keys\tkey_resp_practice_end.rt\ttext_main_instruction.started\tkey_resp_main_instruction.started\tkey_resp_main_instruction.keys\tkey_resp_main_instruction.rt\tconditions\tcurrentCondition\tconditionsAfterRemoval\ttext_slots_presentation.started\ttext_slots_presentation_2.started\tkey_resp_slots_presentation.started\tkey_resp_slots_presentation.keys\tkey_resp_slots_presentation.rt\tMain_presentationInterval\tpolygon_selection_interval.started\ttext_selection_interval.started\tpolygon_selection_interval.stopped\ttext_selection_interval.stopped\tMain_reward_seq\tRandom value generated\tMain_reward_Img\tMain_Cuml_rew\tMain_currentTrialReward\ttext_reward_presentation.started\ttext_reward_presentation.stopped\ttext_block_break.started\tparticipant\tdate\texpName\tpsychopyVersion\tframeRate\n"
   ]
  },
  {
   "cell_type": "code",
   "execution_count": 2,
   "id": "65d33033",
   "metadata": {},
   "outputs": [],
   "source": [
    "char = \"practice_trials.thisRepN\tpractice_trials.thisTrialN\tpractice_trials.thisN\tpractice_trials.thisIndex\tblock.thisRepN\tblock.thisTrialN\tblock.thisN\tblock.thisIndex\tmain_trials.thisRepN\tmain_trials.thisTrialN\tmain_trials.thisN\tmain_trials.thisIndex\ttext_practice_instruction.started\tkey_resp_practice_instruction.started\tkey_resp_practice_instruction.keys\tkey_resp_practice_instruction.rt\ttext.started\tkey_resp.started\tkey_resp.keys\tkey_resp.rt\ttext_practice_reset.started\tkey_resp_practice_reset.started\tkey_resp_practice_reset.keys\tkey_resp_practice_reset.rt\ttext_practice_slots.started\ttext_practice_slots_2.started\tkey_resp_practice_slots.started\tkey_resp_practice_slots.keys\tkey_resp_practice_slots.rt\tpresentationInterval\tpolygon_practice_interval.started\tpolygon_practice_interval.stopped\treward_seq\treward_Img\tCuml_rew\tcurrentTrialReward\ttext_practice_rewards.started\ttext_practice_rewards.stopped\ttext_practice_end.started\tkey_resp_practice_end.started\tkey_resp_practice_end.keys\tkey_resp_practice_end.rt\ttext_main_instruction.started\tkey_resp_main_instruction.started\tkey_resp_main_instruction.keys\tkey_resp_main_instruction.rt\tconditions\tcurrentCondition\tconditionsAfterRemoval\ttext_slots_presentation.started\ttext_slots_presentation_2.started\tkey_resp_slots_presentation.started\tkey_resp_slots_presentation.keys\tkey_resp_slots_presentation.rt\tMain_presentationInterval\tpolygon_selection_interval.started\ttext_selection_interval.started\tpolygon_selection_interval.stopped\ttext_selection_interval.stopped\tMain_reward_seq\tRandom value generated\tMain_reward_Img\tMain_Cuml_rew\tMain_currentTrialReward\ttext_reward_presentation.started\ttext_reward_presentation.stopped\ttext_block_break.started\tparticipant\tdate\texpName\tpsychopyVersion\tframeRate\""
   ]
  },
  {
   "cell_type": "code",
   "execution_count": 3,
   "id": "4b6217ec",
   "metadata": {},
   "outputs": [
    {
     "data": {
      "text/plain": [
       "74"
      ]
     },
     "execution_count": 3,
     "metadata": {},
     "output_type": "execute_result"
    }
   ],
   "source": [
    "xc = char.split()\n",
    "xc.sort()\n",
    "len(xc)"
   ]
  },
  {
   "cell_type": "code",
   "execution_count": 4,
   "id": "88e5b5dd",
   "metadata": {},
   "outputs": [],
   "source": [
    "new = \"key_resp_practice_instruction.keys\tkey_resp_practice_instruction.rt\tparticipant\tdate\texpName\tpsychopyVersion\tOS\tframeRate\tkey_resp.keys\tkey_resp.rt\tkey_resp_practice_reset.keys\tkey_resp_practice_reset.rt\tkey_resp_practice_slots.keys\tkey_resp_practice_slots.rt\tpresentationInterval\treward_seq\treward_Img\tCuml_rew\tcurrentTrialReward\tpractice_trials.thisRepN\tpractice_trials.thisTrialN\tpractice_trials.thisN\tpractice_trials.thisIndex\tpractice_trials.ran\tkey_resp_practice_end.keys\tkey_resp_practice_end.rt\tkey_resp_main_instruction.keys\tkey_resp_main_instruction.rt\tconditions\tcurrentCondition\tconditionsAfterRemoval\tkey_resp_slots_presentation.keys\tkey_resp_slots_presentation.rt\tMain_presentationInterval\tMain_reward_seq\tRandom value generated\tMain_reward_Img\tMain_Cuml_rew\tMain_currentTrialReward\tmain_trials.thisRepN\tmain_trials.thisTrialN\tmain_trials.thisN\tmain_trials.thisIndex\tmain_trials.ran\tblock.thisRepN\tblock.thisTrialN\tblock.thisN\tblock.thisIndex\tblock.ran\tblock.order\tmain_trials.order\""
   ]
  },
  {
   "cell_type": "code",
   "execution_count": 5,
   "id": "64f4b4b5",
   "metadata": {},
   "outputs": [
    {
     "data": {
      "text/plain": [
       "53"
      ]
     },
     "execution_count": 5,
     "metadata": {},
     "output_type": "execute_result"
    }
   ],
   "source": [
    "xn = new.split()\n",
    "xn.sort()\n",
    "len(xn)\n"
   ]
  },
  {
   "cell_type": "code",
   "execution_count": 6,
   "id": "b3abd315",
   "metadata": {},
   "outputs": [],
   "source": [
    "diff = []\n",
    "for i in range(len(xc)):\n",
    "    present = False\n",
    "    for j in range(len(xn)):\n",
    "        if xc[i] == xn[j]:\n",
    "            present = True\n",
    "    if not present:\n",
    "        diff.append(xc[i])"
   ]
  },
  {
   "cell_type": "code",
   "execution_count": 7,
   "id": "beb42b65",
   "metadata": {},
   "outputs": [
    {
     "data": {
      "text/plain": [
       "27"
      ]
     },
     "execution_count": 7,
     "metadata": {},
     "output_type": "execute_result"
    }
   ],
   "source": [
    "len(diff)"
   ]
  },
  {
   "cell_type": "code",
   "execution_count": 23,
   "id": "b1f27d9c",
   "metadata": {},
   "outputs": [
    {
     "data": {
      "text/plain": [
       "['text_practice_end.started',\n",
       " 'text_practice_instruction.started',\n",
       " 'text_practice_reset.started',\n",
       " 'text_practice_rewards.started',\n",
       " 'text_practice_rewards.stopped',\n",
       " 'text_practice_slots.started',\n",
       " 'text_practice_slots_2.started',\n",
       " 'text_reward_presentation.started',\n",
       " 'text_reward_presentation.stopped',\n",
       " 'text_selection_interval.started',\n",
       " 'text_selection_interval.stopped',\n",
       " 'text_slots_presentation.started',\n",
       " 'text_slots_presentation_2.started']"
      ]
     },
     "execution_count": 23,
     "metadata": {},
     "output_type": "execute_result"
    }
   ],
   "source": [
    "diff[7:12]\n",
    "diff[14:]"
   ]
  },
  {
   "cell_type": "code",
   "execution_count": 9,
   "id": "f9e82989",
   "metadata": {},
   "outputs": [],
   "source": [
    "# c = 0\n",
    "# diff = []\n",
    "# for i in range(len(xc)):\n",
    "#     c+=1\n",
    "#     print(\"count: \",c)\n",
    "#     print(xc[i])\n",
    "#     if i<len(xn):\n",
    "#         print(xn[i])\n",
    "#         print(\"\\n\")\n"
   ]
  },
  {
   "cell_type": "code",
   "execution_count": 10,
   "id": "d80a20ab",
   "metadata": {},
   "outputs": [],
   "source": [
    "# len(diff)"
   ]
  },
  {
   "cell_type": "code",
   "execution_count": 11,
   "id": "0c09ef10",
   "metadata": {},
   "outputs": [
    {
     "data": {
      "text/plain": [
       "55"
      ]
     },
     "execution_count": 11,
     "metadata": {},
     "output_type": "execute_result"
    }
   ],
   "source": [
    "nnew = \"key_resp_practice_instruction.started\tkey_resp_practice_instruction.keys\tkey_resp_practice_instruction.rt\tparticipant\tdate\texpName\tpsychopyVersion\tOS\tframeRate\tkey_resp.started\tkey_resp.keys\tkey_resp.rt\tkey_resp_practice_reset.keys\tkey_resp_practice_reset.rt\tkey_resp_practice_slots.keys\tkey_resp_practice_slots.rt\tpresentationInterval\treward_seq\treward_Img\tCuml_rew\tcurrentTrialReward\tpractice_trials.thisRepN\tpractice_trials.thisTrialN\tpractice_trials.thisN\tpractice_trials.thisIndex\tpractice_trials.ran\tkey_resp_practice_end.started\tkey_resp_practice_end.keys\tkey_resp_practice_end.rt\tkey_resp_main_instruction.started\tkey_resp_main_instruction.keys\tkey_resp_main_instruction.rt\tconditions\tcurrentCondition\tconditionsAfterRemoval\tkey_resp_slots_presentation.keys\tkey_resp_slots_presentation.rt\tMain_presentationInterval\tMain_reward_seq\tRandom value generated\tMain_reward_Img\tMain_Cuml_rew\tMain_currentTrialReward\tmain_trials.thisRepN\tmain_trials.thisTrialN\tmain_trials.thisN\tmain_trials.thisIndex\tmain_trials.ran\tblock.thisRepN\tblock.thisTrialN\tblock.thisN\tblock.thisIndex\tblock.ran\"\n",
    "xnn = nnew.split()\n",
    "len(xnn)"
   ]
  },
  {
   "cell_type": "code",
   "execution_count": 12,
   "id": "973dc2d7",
   "metadata": {},
   "outputs": [
    {
     "name": "stdout",
     "output_type": "stream",
     "text": [
      "23\n"
     ]
    },
    {
     "data": {
      "text/plain": [
       "['key_resp_practice_reset.started',\n",
       " 'key_resp_practice_slots.started',\n",
       " 'key_resp_slots_presentation.started',\n",
       " 'polygon_practice_interval.started',\n",
       " 'polygon_practice_interval.stopped',\n",
       " 'polygon_selection_interval.started',\n",
       " 'polygon_selection_interval.stopped',\n",
       " 'text.started',\n",
       " 'text_block_break.started',\n",
       " 'text_main_instruction.started',\n",
       " 'text_practice_end.started',\n",
       " 'text_practice_instruction.started',\n",
       " 'text_practice_reset.started',\n",
       " 'text_practice_rewards.started',\n",
       " 'text_practice_rewards.stopped',\n",
       " 'text_practice_slots.started',\n",
       " 'text_practice_slots_2.started',\n",
       " 'text_reward_presentation.started',\n",
       " 'text_reward_presentation.stopped',\n",
       " 'text_selection_interval.started',\n",
       " 'text_selection_interval.stopped',\n",
       " 'text_slots_presentation.started',\n",
       " 'text_slots_presentation_2.started']"
      ]
     },
     "execution_count": 12,
     "metadata": {},
     "output_type": "execute_result"
    }
   ],
   "source": [
    "diff1 = []\n",
    "for i in range(len(xc)):\n",
    "    if xc[i] not in xnn:\n",
    "        diff1.append(xc[i])\n",
    "#     present = False\n",
    "#     for j in range(len(xnn)):\n",
    "#         if xc[i] == xnn[j]:\n",
    "#             present = True\n",
    "#     if not present:\n",
    "#         diff1.append(xc[i])\n",
    "print(len(diff1))\n",
    "diff1"
   ]
  },
  {
   "cell_type": "code",
   "execution_count": 13,
   "id": "cc2ff8c5",
   "metadata": {},
   "outputs": [
    {
     "name": "stdout",
     "output_type": "stream",
     "text": [
      "key_resp.started\n",
      "key_resp_main_instruction.started\n",
      "key_resp_practice_end.started\n",
      "key_resp_practice_instruction.started\n"
     ]
    }
   ],
   "source": [
    "# diff1 = []\n",
    "for i in range(len(diff)):\n",
    "    if diff[i] not in diff1:\n",
    "        print(diff[i])\n",
    "#     present = False\n",
    "#     for j in range(len(diff1)):\n",
    "#         if diff[i] == diff1[j]:\n",
    "#             present = True\n",
    "# #             print(diff[i])\n",
    "#     if not present:\n",
    "#         print(diff[i])\n",
    "# print(len(diff1))\n",
    "# diff1"
   ]
  },
  {
   "cell_type": "code",
   "execution_count": null,
   "id": "ebd44285",
   "metadata": {},
   "outputs": [],
   "source": []
  }
 ],
 "metadata": {
  "kernelspec": {
   "display_name": "Python 3 (ipykernel)",
   "language": "python",
   "name": "python3"
  },
  "language_info": {
   "codemirror_mode": {
    "name": "ipython",
    "version": 3
   },
   "file_extension": ".py",
   "mimetype": "text/x-python",
   "name": "python",
   "nbconvert_exporter": "python",
   "pygments_lexer": "ipython3",
   "version": "3.9.7"
  }
 },
 "nbformat": 4,
 "nbformat_minor": 5
}
